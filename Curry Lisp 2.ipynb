{
 "cells": [
  {
   "cell_type": "markdown",
   "metadata": {
    "slideshow": {
     "slide_type": "slide"
    }
   },
   "source": [
    "# Parsing Syntax\n",
    "\n",
    "We'll build a simple parsing library for our lisp based on Haskell's awesome [Parsec](https://wiki.haskell.org/Parsec) toolset. There's nothing novel here, so if you're willing to trust that these parsers work, feel free to skip ahead to [Building ASTs](#Building-ASTs). \n",
    "\n",
    "However, if you're not familiar with Parsec and are willing to stick around, I'll make the case in this section that parsing is a great entry point for people looking to learn about how functional programming can cleanly express complex operations involving handling failure without repeating yourself. \n",
    "\n",
    "The basic units we'll use to build our parsers are `item` and `unit`, defined as follows."
   ]
  },
  {
   "cell_type": "code",
   "execution_count": 1,
   "metadata": {},
   "outputs": [],
   "source": [
    "def item(stream):\n",
    "    if not stream:\n",
    "        return None, []\n",
    "        \n",
    "    return stream[0], stream[1:]"
   ]
  },
  {
   "cell_type": "code",
   "execution_count": 2,
   "metadata": {},
   "outputs": [],
   "source": [
    "unit = lambda obj: lambda stream: (obj, stream)"
   ]
  },
  {
   "cell_type": "markdown",
   "metadata": {},
   "source": [
    "Item is a sort of prototype for all of the parsers we'll build in this section, and also the workhorse of the parser apparatus. There are a couple of things to notice about the structure of `item`. \n",
    "\n",
    "Firstly, we've chosen to express parsers as a transformation of an input stream into an output object and a new input stream, representing the information that our parser has not consumed. \n",
    "\n",
    "`item(\"abc\")` returns `\"a\", \"bc\"`, because it takes a single item from the input stream, and returns it along with the items it has not yet parsed.\n",
    "\n",
    "The function is also capable of failure if it's given an empty input stream, and represents the inability to parse an output object with `None`.\n",
    "\n",
    "Interestingly, `unit` has the same parser structure as `item`, but this time we construct a parser that returns the same output object regardless of the input stream, as well as the unmodified input stream. This has the effect of promoting any object to a parser. We'll find this a useful building block for stringing together a bunch of parsers, collecting their outputs, and then returning those outputs without consuming any additional input. A simple approach to this problem is outlined below."
   ]
  },
  {
   "cell_type": "markdown",
   "metadata": {},
   "source": [
    "Suppose we have inputs like these:\n",
    "\n",
    "Well-formed input examples:\n",
    "\n",
    "    numbers 123 (1)\n",
    "    letters abc (2)\n",
    "    \n",
    "Malformed input examples:\n",
    "\n",
    "    numbers abc (3)\n",
    "    abc         (4)\n",
    "    \n",
    "We have a couple of goals when we parse:\n",
    " - check that our input is well-formed (lines 3 and 4 are malformed)\n",
    " - if the input is well-formed, extract useful information from it (in lines 1 and 2, for example, the \"numbers\" and \"letters\" tags are useful to us mainly to tell which parser we need to use, but need not be included in the output)\n",
    " \n",
    "Let's also say, that we've already written parsers called `numbers` and `letters`, which parse a list of numbers or letters, respectively, and a parser called `numbers_or_letters`, which returns `True` if it consumes the string `\"numbers \"`, `False` if it consumes the string `\"letters \"`, and `None` if it is unable to consume either string.\n",
    " \n",
    "Our immediate challenge is that stringing together these three parsers doesn't get us anywhere unless we can inspect the intermediate output of each parser. We need a function that takes a parser and a set of instructions for creating a second parser and fuses the first and second parsers into a third parser that represents the entire operation on the input stream. \n",
    "\n",
    "For our problem, this function call -- we'll call it `then` -- would look something like this:\n",
    "\n",
    "    my_parser = then(numbers_or_letters, lambda is_number: numbers if is_number else letters)\n",
    "\n",
    "Why is this way of constructing parsers special? For one thing, at no point in this entire expression have we needed to do error handling, or say anything about how the input streams should be allocated to each parser. We've abstracted away the plumbing of this complex function and kept only the aspects of the parser we want to talk about. \n",
    "\n",
    "Whether a string is malformed on the first or second parser makes no difference to us if we only want to know if the input stream as a whole is well-formed. And, if any parser fails, we don't have to worry about how much input intermediate parsers have consumed."
   ]
  },
  {
   "cell_type": "code",
   "execution_count": 3,
   "metadata": {},
   "outputs": [],
   "source": [
    "def then(p, g):\n",
    "    def f(stream):\n",
    "        parsed, rest = p(stream)\n",
    "        if parsed is None:\n",
    "            return None, stream\n",
    "        \n",
    "        parsed, rest = g(parsed)(rest)\n",
    "        if parsed is None:\n",
    "            return None, stream\n",
    "        \n",
    "        return parsed, rest\n",
    "    \n",
    "    return f"
   ]
  },
  {
   "cell_type": "markdown",
   "metadata": {},
   "source": [
    "What about transforming an output once it's parsed? Is there a way to create a new parser that maps a function onto the result of the old parser?"
   ]
  },
  {
   "cell_type": "code",
   "execution_count": 4,
   "metadata": {},
   "outputs": [],
   "source": [
    "pmap = lambda g, p: then(p, lambda parsed: unit(g(parsed)))"
   ]
  },
  {
   "cell_type": "markdown",
   "metadata": {},
   "source": [
    "By the way, if you're interested in the fact that you can derive `pmap` from `then` and `unit`, check out [Functors and Monads](https://wiki.haskell.org/All_About_Monads#Introduction) for a cool discussion of how the patterns we've laid out on this page appear in an interesting variety of places. "
   ]
  },
  {
   "cell_type": "markdown",
   "metadata": {},
   "source": [
    "How about triggering failure manually without having to deal with the results? Can we use simple predicates to check whether an output object is valid?"
   ]
  },
  {
   "cell_type": "code",
   "execution_count": 5,
   "metadata": {},
   "outputs": [],
   "source": [
    "fail = unit(None)\n",
    "\n",
    "pred = lambda p: then(item, lambda x: unit(x) if p(x) else fail)"
   ]
  },
  {
   "cell_type": "markdown",
   "metadata": {
    "slideshow": {
     "slide_type": "slide"
    }
   },
   "source": [
    "## Playing with Parsers\n",
    "\n",
    "Make sure these examples make sense before you move on."
   ]
  },
  {
   "cell_type": "code",
   "execution_count": 6,
   "metadata": {},
   "outputs": [
    {
     "data": {
      "text/plain": [
       "('test', '2')"
      ]
     },
     "execution_count": 6,
     "metadata": {},
     "output_type": "execute_result"
    }
   ],
   "source": [
    "unit(\"test\")('2')"
   ]
  },
  {
   "cell_type": "code",
   "execution_count": 7,
   "metadata": {},
   "outputs": [
    {
     "data": {
      "text/plain": [
       "('2', ['1'])"
      ]
     },
     "execution_count": 7,
     "metadata": {},
     "output_type": "execute_result"
    }
   ],
   "source": [
    "pred(lambda x: x == '2')(['2', '1'])"
   ]
  },
  {
   "cell_type": "code",
   "execution_count": 8,
   "metadata": {},
   "outputs": [
    {
     "data": {
      "text/plain": [
       "('2', '1')"
      ]
     },
     "execution_count": 8,
     "metadata": {},
     "output_type": "execute_result"
    }
   ],
   "source": [
    "pred(lambda x: x == '2')('21') \n",
    "# The parsers in this notebook don't care about the type of your input stream so long as it has list-like properties"
   ]
  },
  {
   "cell_type": "code",
   "execution_count": 9,
   "metadata": {},
   "outputs": [
    {
     "data": {
      "text/plain": [
       "('2', '2')"
      ]
     },
     "execution_count": 9,
     "metadata": {},
     "output_type": "execute_result"
    }
   ],
   "source": [
    "pred(lambda x: x == '2')('22')\n",
    "# Pred parses only a single item from the input stream, \n",
    "# so it doesn't matter whether or not the rest of the stream is well-formed"
   ]
  },
  {
   "cell_type": "markdown",
   "metadata": {},
   "source": [
    "## Why Parser Combinators?"
   ]
  },
  {
   "cell_type": "markdown",
   "metadata": {},
   "source": [
    "When people talk about building software, the analogy of building a structure from uniform blocks often arises. You might hear that good software is built from easily composable units -- pieces that fit together to form larger pieces, which fit together to form larger pieces, and so on, such that on any scale the novelty of a structure is expressed in the arrangement of the pieces, not their shapes. \n",
    "\n",
    "The thing is, we rarely have the luxury of dealing with smooth building blocks. Parsing is a great example of how even the smallest and most simple operations, like `item` or `unit` are a jagged mess to put together on their own. Building combinators, in my experience, is about gaining intuition about the kind of adapters we can attach to the complex wiring of our problems.\n",
    "\n",
    "If you've made it here, you're through the hard part already. By building functions like `then` and `pmap`, we've sanded the edges off of the building blocks of the next section. Every parser we build from here to the end of this article will be a rearrangement of the primitive parsers that come before it.\n"
   ]
  },
  {
   "cell_type": "markdown",
   "metadata": {
    "slideshow": {
     "slide_type": "slide"
    }
   },
   "source": [
    "# Parsing Strings\n",
    "Up until now, we've worked with parsers general enough to operate on any sequence of objects as inputs. In the interest of time, we'll write the remainder of our parsers to work with sequences of characters."
   ]
  },
  {
   "cell_type": "code",
   "execution_count": 10,
   "metadata": {
    "slideshow": {
     "slide_type": "subslide"
    }
   },
   "outputs": [],
   "source": [
    "char = lambda c: pred(lambda d: c == d)"
   ]
  },
  {
   "cell_type": "code",
   "execution_count": 11,
   "metadata": {},
   "outputs": [],
   "source": [
    "stringify = lambda p: pmap(''.join, p)\n",
    "listify   = lambda p: pmap(lambda x: [x], p)"
   ]
  },
  {
   "cell_type": "code",
   "execution_count": 12,
   "metadata": {},
   "outputs": [],
   "source": [
    "def sequence(ps):\n",
    "    if not ps:\n",
    "        return unit([])\n",
    "    \n",
    "    p, ps = ps[0], ps[1:]\n",
    "    return then(p, lambda parsed: then(sequence(ps), lambda parsed_list: unit([parsed] + parsed_list)))"
   ]
  },
  {
   "cell_type": "code",
   "execution_count": 13,
   "metadata": {},
   "outputs": [],
   "source": [
    "string = lambda s: stringify(sequence([char(c) for c in s]))"
   ]
  },
  {
   "cell_type": "markdown",
   "metadata": {
    "slideshow": {
     "slide_type": "slide"
    }
   },
   "source": [
    "## Playing with string parsers"
   ]
  },
  {
   "cell_type": "code",
   "execution_count": 14,
   "metadata": {},
   "outputs": [
    {
     "data": {
      "text/plain": [
       "('d', '')"
      ]
     },
     "execution_count": 14,
     "metadata": {},
     "output_type": "execute_result"
    }
   ],
   "source": [
    "then(char('c'), lambda x: char('d'))('cd') # unless we explicitly do something with x, it is discarded by then."
   ]
  },
  {
   "cell_type": "code",
   "execution_count": 15,
   "metadata": {},
   "outputs": [
    {
     "data": {
      "text/plain": [
       "('cd', '')"
      ]
     },
     "execution_count": 15,
     "metadata": {},
     "output_type": "execute_result"
    }
   ],
   "source": [
    "then(char('c'), lambda x: then(char('d'), lambda y: unit(x + y)))('cd')"
   ]
  },
  {
   "cell_type": "code",
   "execution_count": 16,
   "metadata": {},
   "outputs": [
    {
     "data": {
      "text/plain": [
       "(None, 'Goodbye')"
      ]
     },
     "execution_count": 16,
     "metadata": {},
     "output_type": "execute_result"
    }
   ],
   "source": [
    "string(\"Hello\")(\"Goodbye\") # string parsers that fail consume no output, as expected"
   ]
  },
  {
   "cell_type": "code",
   "execution_count": 17,
   "metadata": {},
   "outputs": [
    {
     "data": {
      "text/plain": [
       "('Hello', ', World!')"
      ]
     },
     "execution_count": 17,
     "metadata": {},
     "output_type": "execute_result"
    }
   ],
   "source": [
    "string(\"Hello\")(\"Hello, World!\") # string parsers consume only the input that they parse"
   ]
  },
  {
   "cell_type": "code",
   "execution_count": 18,
   "metadata": {},
   "outputs": [
    {
     "name": "stdout",
     "output_type": "stream",
     "text": [
      "('Hello', ', World!')\n"
     ]
    },
    {
     "data": {
      "text/plain": [
       "'Hello, World!'"
      ]
     },
     "execution_count": 18,
     "metadata": {},
     "output_type": "execute_result"
    }
   ],
   "source": [
    "stream = \"Hello, World!\"\n",
    "print(string(\"Hello\")(stream))\n",
    "\n",
    "stream # Additionally, string parsers are purely functional and do not modify the initial input stream"
   ]
  },
  {
   "cell_type": "markdown",
   "metadata": {
    "slideshow": {
     "slide_type": "slide"
    }
   },
   "source": [
    "# Backtracking Combinators\n",
    "\n",
    "What if we want to construct a parser that responds differently to failure? The `choice` function gives us the ability to pick which parser we wish to apply to the stream by selecting the first parser which can parse the input without failing."
   ]
  },
  {
   "cell_type": "code",
   "execution_count": 19,
   "metadata": {},
   "outputs": [],
   "source": [
    "def choice(ps):\n",
    "    def f(stream):\n",
    "        for p in ps:\n",
    "            parsed, rest = p(stream)\n",
    "            if parsed is not None:\n",
    "                return parsed, rest\n",
    "        \n",
    "        return None, stream\n",
    "    return f"
   ]
  },
  {
   "cell_type": "code",
   "execution_count": 20,
   "metadata": {},
   "outputs": [],
   "source": [
    "optional = lambda p: choice([p, unit([])])"
   ]
  },
  {
   "cell_type": "code",
   "execution_count": 21,
   "metadata": {},
   "outputs": [],
   "source": [
    "many = lambda p: then(p, lambda x: then(optional(many(p)), lambda l: unit([x] + l)))\n",
    "some = lambda p: optional(many(p))"
   ]
  },
  {
   "cell_type": "markdown",
   "metadata": {},
   "source": [
    "In other words, `many` of a pattern is just the pattern and `some` more of the pattern, and `some` of the pattern is optionally `many`. Pretty cool, eh?"
   ]
  },
  {
   "cell_type": "code",
   "execution_count": 22,
   "metadata": {},
   "outputs": [],
   "source": [
    "between = lambda o, c, b: then(o, lambda _: then(b, lambda ret: then(c, lambda __: unit(ret))))"
   ]
  },
  {
   "cell_type": "markdown",
   "metadata": {
    "slideshow": {
     "slide_type": "slide"
    }
   },
   "source": [
    "## Playing with Backtracking"
   ]
  },
  {
   "cell_type": "code",
   "execution_count": 23,
   "metadata": {},
   "outputs": [
    {
     "data": {
      "text/plain": [
       "(['cc'], 'c')"
      ]
     },
     "execution_count": 23,
     "metadata": {},
     "output_type": "execute_result"
    }
   ],
   "source": [
    "some(string(\"cc\"))(\"ccc\")"
   ]
  },
  {
   "cell_type": "code",
   "execution_count": 24,
   "metadata": {},
   "outputs": [
    {
     "data": {
      "text/plain": [
       "(['C', 'C', 'C'], '')"
      ]
     },
     "execution_count": 24,
     "metadata": {},
     "output_type": "execute_result"
    }
   ],
   "source": [
    "many(char(\"C\"))(\"CCC\")"
   ]
  },
  {
   "cell_type": "code",
   "execution_count": 25,
   "metadata": {},
   "outputs": [
    {
     "data": {
      "text/plain": [
       "(None, 'c')"
      ]
     },
     "execution_count": 25,
     "metadata": {},
     "output_type": "execute_result"
    }
   ],
   "source": [
    "many(string(\"CC\"))(\"c\")"
   ]
  },
  {
   "cell_type": "code",
   "execution_count": 26,
   "metadata": {},
   "outputs": [
    {
     "data": {
      "text/plain": [
       "([], 'c')"
      ]
     },
     "execution_count": 26,
     "metadata": {},
     "output_type": "execute_result"
    }
   ],
   "source": [
    "some(string(\"CC\"))(\"c\")"
   ]
  },
  {
   "cell_type": "code",
   "execution_count": 27,
   "metadata": {},
   "outputs": [
    {
     "data": {
      "text/plain": [
       "(['c', 'c', 'c', 'c'], '')"
      ]
     },
     "execution_count": 27,
     "metadata": {},
     "output_type": "execute_result"
    }
   ],
   "source": [
    "between(char('('), char(')'), many(char('c')))('(cccc)')"
   ]
  },
  {
   "cell_type": "markdown",
   "metadata": {
    "slideshow": {
     "slide_type": "slide"
    }
   },
   "source": [
    "# Composing Parser Combinators"
   ]
  },
  {
   "cell_type": "markdown",
   "metadata": {},
   "source": [
    "## Building sets to test inclusion\n",
    "Let's define some sets that we can use for membership parsers"
   ]
  },
  {
   "cell_type": "code",
   "execution_count": 28,
   "metadata": {},
   "outputs": [],
   "source": [
    "alpha_range = lambda a, b: [chr(n) for n in range(ord(a), ord(b) + 1)]"
   ]
  },
  {
   "cell_type": "code",
   "execution_count": 29,
   "metadata": {},
   "outputs": [],
   "source": [
    "alphabet_set = set(alpha_range('a', 'z') + alpha_range('A', 'Z'))\n",
    "digits_set = set(alpha_range('0', '9'))\n",
    "whitespace_set = set([\" \", \"\\n\"])\n",
    "symbols_set = set([c for c in \"+-!@#$%^&*[]_;.,\"])\n",
    "starting_chars_set = alphabet_set.union(symbols_set)\n",
    "body_chars_set = starting_chars_set.union(digits_set)"
   ]
  },
  {
   "cell_type": "code",
   "execution_count": 30,
   "metadata": {},
   "outputs": [],
   "source": [
    "one_of = lambda s: pred(lambda x: x in s)\n",
    "not_one_of = lambda s: pred(lambda x: x not in s)"
   ]
  },
  {
   "cell_type": "markdown",
   "metadata": {
    "slideshow": {
     "slide_type": "subslide"
    }
   },
   "source": [
    "## Parsers based on set membership"
   ]
  },
  {
   "cell_type": "code",
   "execution_count": 31,
   "metadata": {},
   "outputs": [],
   "source": [
    "whitespace = stringify(many(one_of(whitespace_set)))\n",
    "digit = one_of(digits_set)\n",
    "alpha = one_of(alphabet_set)\n",
    "alpha_string = stringify(many(alpha))\n",
    "symbol = one_of(symbols_set)\n",
    "starting_chars = many(one_of(starting_chars_set))\n",
    "body_chars = some(one_of(body_chars_set))"
   ]
  },
  {
   "cell_type": "markdown",
   "metadata": {
    "slideshow": {
     "slide_type": "subslide"
    }
   },
   "source": [
    "## Stripping away uninteresting information "
   ]
  },
  {
   "cell_type": "code",
   "execution_count": 32,
   "metadata": {},
   "outputs": [],
   "source": [
    "some_snd = lambda d, p: some(then(d, lambda _: then(p, lambda y: unit(y))))\n",
    "strip_ends = lambda d, p: pmap(lambda x: x[1], sequence([optional(d), p, optional(d)]))\n",
    "optional_fst = lambda p, q: pmap(lambda x: x[0] + x[1], sequence([optional(listify(p)), q]))\n",
    "sepby = lambda d, p: strip_ends(d, optional_fst(p, some_snd(d, p)))"
   ]
  },
  {
   "cell_type": "markdown",
   "metadata": {},
   "source": [
    "## Parsing Numbers"
   ]
  },
  {
   "cell_type": "markdown",
   "metadata": {},
   "source": [
    "This is the first big field test of our parser apparatus. We first define unsigned integers and build this up to a full-fledged scientific number parser."
   ]
  },
  {
   "cell_type": "code",
   "execution_count": 33,
   "metadata": {
    "slideshow": {
     "slide_type": "subslide"
    }
   },
   "outputs": [],
   "source": [
    "uinteger = pmap(int, stringify(many(digit)))\n",
    "udot_float = pmap(lambda x: float(f\"{x[0]}.{x[2]}\"), sequence([uinteger, char('.'), uinteger]))\n",
    "signed = lambda n: then(optional(char('-')), lambda sign: then(n, lambda x: unit(x * (-1 if sign else 1))))\n",
    "integer = signed(uinteger)\n",
    "dot_float = signed(udot_float)\n",
    "sci_float = pmap(lambda x: float(f\"{x[0]}e{x[2]}\"), sequence([choice([dot_float, integer]), char('e'), integer]))\n",
    "number = choice([sci_float, dot_float, integer])"
   ]
  },
  {
   "cell_type": "markdown",
   "metadata": {},
   "source": [
    "## Variable Names, String Literals, and Lists"
   ]
  },
  {
   "cell_type": "markdown",
   "metadata": {},
   "source": [
    "This is specific to the syntax of our particular lisp implementation, but good practice here is that variables can start with symbols or letters but not numbers, and may contain numbers.\n",
    "\n",
    "String literals are defined by anything surrounded by quotes, and lists are defined by anything surrounded by parens"
   ]
  },
  {
   "cell_type": "code",
   "execution_count": 34,
   "metadata": {
    "slideshow": {
     "slide_type": "subslide"
    }
   },
   "outputs": [],
   "source": [
    "code_word = stringify(then(starting_chars, lambda start: then(body_chars, lambda end: unit(start + end))))\n",
    "double_quoted = stringify(between(char('\"'), char('\"'), some(not_one_of('\"'))))\n",
    "single_quoted = stringify(between(char(\"'\"), char(\"'\"), some(not_one_of(\"'\"))))\n",
    "quoted = choice([single_quoted, double_quoted])\n",
    "parens = lambda p: between(char(\"(\"), char(\")\"), p)"
   ]
  },
  {
   "cell_type": "markdown",
   "metadata": {
    "slideshow": {
     "slide_type": "skip"
    }
   },
   "source": [
    "## Playing With Composing Parsers"
   ]
  },
  {
   "cell_type": "code",
   "execution_count": 35,
   "metadata": {},
   "outputs": [
    {
     "data": {
      "text/plain": [
       "(['d', 'c', 'c', 'd', 'c'], '')"
      ]
     },
     "execution_count": 35,
     "metadata": {},
     "output_type": "execute_result"
    }
   ],
   "source": [
    "some(choice([char('c'), char('d')]))('dccdc')"
   ]
  },
  {
   "cell_type": "code",
   "execution_count": 36,
   "metadata": {},
   "outputs": [
    {
     "data": {
      "text/plain": [
       "([123], ' 456')"
      ]
     },
     "execution_count": 36,
     "metadata": {},
     "output_type": "execute_result"
    }
   ],
   "source": [
    "many(integer)(\"123 456\")"
   ]
  },
  {
   "cell_type": "code",
   "execution_count": 37,
   "metadata": {},
   "outputs": [
    {
     "data": {
      "text/plain": [
       "([123, 456, 789, 'ligma_123'], \"'life is good'\")"
      ]
     },
     "execution_count": 37,
     "metadata": {},
     "output_type": "execute_result"
    }
   ],
   "source": [
    "sepby(whitespace, choice([number, code_word]))(\"123  456  789 ligma_123 'life is good'\")"
   ]
  },
  {
   "cell_type": "code",
   "execution_count": 38,
   "metadata": {},
   "outputs": [
    {
     "data": {
      "text/plain": [
       "(['abc'], '')"
      ]
     },
     "execution_count": 38,
     "metadata": {},
     "output_type": "execute_result"
    }
   ],
   "source": [
    "sepby(whitespace, alpha_string)(\"abc\")"
   ]
  },
  {
   "cell_type": "code",
   "execution_count": 39,
   "metadata": {},
   "outputs": [
    {
     "data": {
      "text/plain": [
       "(['abc'], '')"
      ]
     },
     "execution_count": 39,
     "metadata": {},
     "output_type": "execute_result"
    }
   ],
   "source": [
    "sepby(whitespace, alpha_string)(\"abc\")"
   ]
  },
  {
   "cell_type": "code",
   "execution_count": 40,
   "metadata": {},
   "outputs": [
    {
     "data": {
      "text/plain": [
       "('abc', ' def')"
      ]
     },
     "execution_count": 40,
     "metadata": {},
     "output_type": "execute_result"
    }
   ],
   "source": [
    "alpha_string(\"abc def\")"
   ]
  },
  {
   "cell_type": "code",
   "execution_count": 41,
   "metadata": {},
   "outputs": [
    {
     "data": {
      "text/plain": [
       "(['abc', ' ', 'def', '  ', 'ghi'], '')"
      ]
     },
     "execution_count": 41,
     "metadata": {},
     "output_type": "execute_result"
    }
   ],
   "source": [
    "between(string('(('), string('))'), many(choice([code_word, whitespace])))(\"((abc def  ghi))\")"
   ]
  },
  {
   "cell_type": "code",
   "execution_count": 42,
   "metadata": {},
   "outputs": [
    {
     "data": {
      "text/plain": [
       "(123.345, '')"
      ]
     },
     "execution_count": 42,
     "metadata": {},
     "output_type": "execute_result"
    }
   ],
   "source": [
    "dot_float(\"123.345\")"
   ]
  },
  {
   "cell_type": "code",
   "execution_count": 43,
   "metadata": {},
   "outputs": [
    {
     "data": {
      "text/plain": [
       "(-0.0145, '')"
      ]
     },
     "execution_count": 43,
     "metadata": {},
     "output_type": "execute_result"
    }
   ],
   "source": [
    "sci_float(\"-1.45e-2\")"
   ]
  },
  {
   "cell_type": "code",
   "execution_count": 44,
   "metadata": {},
   "outputs": [
    {
     "data": {
      "text/plain": [
       "(0.1234, '')"
      ]
     },
     "execution_count": 44,
     "metadata": {},
     "output_type": "execute_result"
    }
   ],
   "source": [
    "number(\"1.234e-1\")"
   ]
  },
  {
   "cell_type": "code",
   "execution_count": 45,
   "metadata": {},
   "outputs": [
    {
     "data": {
      "text/plain": [
       "(12.23, '')"
      ]
     },
     "execution_count": 45,
     "metadata": {},
     "output_type": "execute_result"
    }
   ],
   "source": [
    "number(\"12.23\")"
   ]
  },
  {
   "cell_type": "code",
   "execution_count": 46,
   "metadata": {},
   "outputs": [
    {
     "data": {
      "text/plain": [
       "('_alpha_123', ' - 2')"
      ]
     },
     "execution_count": 46,
     "metadata": {},
     "output_type": "execute_result"
    }
   ],
   "source": [
    "code_word(\"_alpha_123 - 2\")"
   ]
  },
  {
   "cell_type": "code",
   "execution_count": 47,
   "metadata": {},
   "outputs": [
    {
     "data": {
      "text/plain": [
       "('abc', '')"
      ]
     },
     "execution_count": 47,
     "metadata": {},
     "output_type": "execute_result"
    }
   ],
   "source": [
    "quoted('\"abc\"')"
   ]
  },
  {
   "cell_type": "markdown",
   "metadata": {
    "slideshow": {
     "slide_type": "slide"
    }
   },
   "source": [
    "# Building ASTs\n",
    "\n",
    "Now that we have the parsers we'll need for our syntax, we'll create classes to tag the syntax as we build our trees. This will help us distinguish a variable named `a` from the string literal `\"a\"`. "
   ]
  },
  {
   "cell_type": "code",
   "execution_count": 48,
   "metadata": {},
   "outputs": [],
   "source": [
    "class SyntaxElement:\n",
    "    def __init__(self, value):\n",
    "        self.value = value\n",
    "    \n",
    "    def __repr__(self):\n",
    "        return f\"{self.name} {self.value}\""
   ]
  },
  {
   "cell_type": "code",
   "execution_count": 49,
   "metadata": {},
   "outputs": [],
   "source": [
    "class Literal(SyntaxElement):\n",
    "    name = \"Literal\""
   ]
  },
  {
   "cell_type": "code",
   "execution_count": 50,
   "metadata": {},
   "outputs": [],
   "source": [
    "class Symbol(SyntaxElement):\n",
    "    name = \"Symbol\""
   ]
  },
  {
   "cell_type": "markdown",
   "metadata": {},
   "source": [
    "Now, we can slap these labels onto the parsers we've created, and our abstract syntax tree parser is complete."
   ]
  },
  {
   "cell_type": "code",
   "execution_count": 51,
   "metadata": {
    "slideshow": {
     "slide_type": "subslide"
    }
   },
   "outputs": [],
   "source": [
    "symbol = pmap(Symbol, code_word)"
   ]
  },
  {
   "cell_type": "code",
   "execution_count": 52,
   "metadata": {},
   "outputs": [],
   "source": [
    "string_literal = pmap(Literal, quoted)"
   ]
  },
  {
   "cell_type": "code",
   "execution_count": 53,
   "metadata": {},
   "outputs": [],
   "source": [
    "num_literal = pmap(Literal, number)"
   ]
  },
  {
   "cell_type": "markdown",
   "metadata": {},
   "source": [
    "Note that operation and atom are mutually recursive because an operation contains many atoms, and an atom may be an operation. \n",
    "\n",
    "To help the Python interpreter sort this out, we'll modify our top-level choice combinator to accept suspended computations using lambdas to create ad hoc \"thunks\". More on this when we talk about our language's evaluation model."
   ]
  },
  {
   "cell_type": "code",
   "execution_count": 54,
   "metadata": {},
   "outputs": [],
   "source": [
    "operation = lambda atom: parens(sepby(whitespace, atom))"
   ]
  },
  {
   "cell_type": "code",
   "execution_count": 55,
   "metadata": {},
   "outputs": [],
   "source": [
    "def lazy_choice(lps):\n",
    "    def f(stream):\n",
    "        for lp in lps:\n",
    "            parsed, rest = lp()(stream)\n",
    "            if parsed is not None:\n",
    "                return parsed, rest\n",
    "        \n",
    "        return None, stream\n",
    "    return f"
   ]
  },
  {
   "cell_type": "code",
   "execution_count": 56,
   "metadata": {},
   "outputs": [],
   "source": [
    "atom = lazy_choice([ lambda: num_literal\n",
    "                   , lambda: string_literal\n",
    "                   , lambda: symbol\n",
    "                   , lambda: operation(atom) ])"
   ]
  },
  {
   "cell_type": "markdown",
   "metadata": {
    "slideshow": {
     "slide_type": "slide"
    }
   },
   "source": [
    "## Playing with Building ASTs"
   ]
  },
  {
   "cell_type": "code",
   "execution_count": 57,
   "metadata": {},
   "outputs": [
    {
     "data": {
      "text/plain": [
       "'Literal 2'"
      ]
     },
     "execution_count": 57,
     "metadata": {},
     "output_type": "execute_result"
    }
   ],
   "source": [
    "str(Literal(2))"
   ]
  },
  {
   "cell_type": "code",
   "execution_count": 58,
   "metadata": {},
   "outputs": [
    {
     "data": {
      "text/plain": [
       "Literal 2"
      ]
     },
     "execution_count": 58,
     "metadata": {},
     "output_type": "execute_result"
    }
   ],
   "source": [
    "Literal(2)"
   ]
  },
  {
   "cell_type": "code",
   "execution_count": 59,
   "metadata": {},
   "outputs": [
    {
     "data": {
      "text/plain": [
       "([Symbol +,\n",
       "  Literal 0.1,\n",
       "  [Symbol a, Literal b, Symbol c],\n",
       "  [[Symbol +, Literal 1, Literal 2], Literal 3, Literal 4, Literal 5]],\n",
       " '')"
      ]
     },
     "execution_count": 59,
     "metadata": {},
     "output_type": "execute_result"
    }
   ],
   "source": [
    "atom('(+ 1e-1 (a \"b\" c) ((+ 1 2) 3 4 5))')"
   ]
  },
  {
   "cell_type": "markdown",
   "metadata": {},
   "source": [
    "# So now what?"
   ]
  },
  {
   "cell_type": "markdown",
   "metadata": {},
   "source": [
    "Now that we have a fully functioning lisp parser, we're ready to jump into evaluating our code! Not quite... \n",
    "\n",
    "Before our evaluator can start digesting our code, we have to cook it into something our runtime system can eat.\n",
    "\n",
    "Exactly how much preparation we do in this \"cooking\" phase is determined by whether we want our language to be interpreted or compiled.\n",
    "\n",
    "It all boils down (no pun intended) to exactly how picky of an eater our runtime system is. A CPU, for example, is the most discerning consumer of code, requiring the operations it executes to be spoon-fed to it -- forcing repetition and unreadability in exchange for simplicity of language components. Like an internal combustion engine, the fuel that is pumped into it must be refined almost beyond recognition, so that the parts it contains are so small and uniform that they can be processed by simple mechanical action.\n",
    "\n",
    "A goat, on the other hand, is famous for eating indiscriminately, [caring little](https://zooatlanta.org/what-goats-really-eat/) whether its food comes from a trough, a lawn, or [the bark of a tree](https://www.youtube.com/watch?v=JGYUnaNIAZ4). This is because a goat carries within itself the machinery to break down a much wider palette of food into usable energy. Runtime evaluation systems that behave like goats need little refinement in the information they consume because they have built-in methods for breaking down complex syntax into usable instructions.\n",
    "\n",
    "In the natural world, it's hard to draw a fine line between preparing a meal ends and digesting it. Some snakes, for example, begin digesting their prey before they've finished hunting them, by injecting powerful hemotoxins into their victims' bloodstream that tear the animal apart from the inside even as it tries to escape its hunter. Similar patterns emerge when we consider compilers that fully evaluate operations on literals known at compile-time, and metaprogramming constructs that unroll loops and inline function calls to create faster sequences of operations.\n",
    "\n",
    "The point I'm making here is that there's rarely a clean distinction between preprocessing and evaluating code, and to decide whether a language is compiled or interpreted is to compare the relative complexities of the runtime environment and the interpreter. Behind every relatively simple car engine is a vast oil refinery apparatus, and behind the intricate digestive system of any goat, there need only be the most rudimentary decision procedure for what is edible.\n",
    "\n",
    "What does this mean for our lisp? \n",
    "\n",
    "We want it to be a goat-viper chimera. In other words, the \"compiler\" for our code should produce a modified AST that is still human-readable but is desugared and optimized to the greatest extent possible. This leaves the door open for us to build a compiler for the \"core\" desugared language to target more low-level runtime environments."
   ]
  },
  {
   "cell_type": "markdown",
   "metadata": {},
   "source": [
    "# Preprocessing ASTs\n",
    "\n",
    "The desugaring operations that we'll use in our preprocessor are these:\n",
    "* `curry` turns lambdas of multiple arguments into nested lambda closures with a single argument. For example `(lambda (a b c) x)` becomes `(curried-lambda a (curried-lambda b (curried-lambda c x))))`.\n",
    "* `associate` turns applications of multiple arguments to an operator like `(f a b c)` into nested single-argument applications like `(((f a) b) c)`. \n",
    "* `(set key value)` creates a hook that our evaluator will implement, which sets the runtime environment of `key` to `value`.\n",
    "* `(defun (f a b c) x)` desugars to `(set f (lambda (a b c)  x))`\n",
    "* `begin` creates a subenvironment and runs each of its arguments inside of it, returning the result of the last argument. For example, `(begin 1 (set a 2) a)` returns `2`, and does not affect the binding of `a` outside of the `begin`. "
   ]
  },
  {
   "cell_type": "code",
   "execution_count": 60,
   "metadata": {},
   "outputs": [],
   "source": [
    "def curry(arg_names, body):\n",
    "    if not arg_names:\n",
    "        return body\n",
    "    \n",
    "    return [Symbol(\"curried-lambda\"), arg_names[0], curry(arg_names[1:], body)]"
   ]
  },
  {
   "cell_type": "code",
   "execution_count": 61,
   "metadata": {
    "slideshow": {
     "slide_type": "subslide"
    }
   },
   "outputs": [],
   "source": [
    "def associate(code):\n",
    "    if not code[2:]:\n",
    "        return [code[0], desugar(code[1])]\n",
    "    \n",
    "    operator = code[0]\n",
    "    first_arg = desugar(code[1])\n",
    "    return associate([[operator, first_arg]] + code[2:])"
   ]
  },
  {
   "cell_type": "markdown",
   "metadata": {},
   "source": [
    "The `desugar` function figures out when to apply each syntactic sugar so that none of them infringe on the others. For example, arguments to `begin` should not be wrapped in left associated parentheses (`(((begin a) b) c)` is not a valid desugaring of `(begin a b c)`).\n",
    "\n",
    "`desugar` also creates the runtime hooks that our evaluator will implement, `SetEnv`, `Procedure`, and `Begin`, as well as re-tagging syntax elements like `Symbol` and `Literal` to `Variable` and `Value`, respectively."
   ]
  },
  {
   "cell_type": "code",
   "execution_count": 62,
   "metadata": {
    "slideshow": {
     "slide_type": "subslide"
    }
   },
   "outputs": [],
   "source": [
    "def desugar(expr):\n",
    "    if isinstance(expr, list):\n",
    "        if not expr:\n",
    "            return expr\n",
    "        \n",
    "        operator, rest = desugar(expr[0]), expr[1:]\n",
    "        if not rest:\n",
    "            return [operator]\n",
    "        \n",
    "        if isinstance(operator, Variable):\n",
    "            if operator.name == \"curried-lambda\":\n",
    "                arg_name, body = expr[1].value, desugar(expr[2])\n",
    "                return Procedure(arg_name, body)\n",
    "            elif operator.name == \"lambda\":\n",
    "                arg_names, body = expr[1], desugar(expr[2])\n",
    "                return desugar(curry(arg_names, body))\n",
    "            elif operator.name == \"set\":\n",
    "                name, value = expr[1].value, desugar(expr[2])\n",
    "                return SetEnv(name, value)\n",
    "            elif operator.name == \"defun\":\n",
    "                description, body = expr[1], desugar(expr[2])\n",
    "                name, arg_names = description[0], description[1:]\n",
    "                return desugar([Symbol(\"set\"), name, [Symbol(\"lambda\"), arg_names, body]])\n",
    "            elif operator.name == \"begin\":\n",
    "                subexprs = desugar([subexpr for subexpr in expr[1:]])\n",
    "                return Begin(subexprs)\n",
    "            \n",
    "        return associate([desugar(operator)] + rest)\n",
    "    \n",
    "    elif isinstance(expr, Literal): \n",
    "        return Value(expr.value)\n",
    "    elif isinstance(expr, Symbol):\n",
    "        return Variable(expr.value)\n",
    "        \n",
    "    return expr"
   ]
  },
  {
   "cell_type": "markdown",
   "metadata": {
    "slideshow": {
     "slide_type": "slide"
    }
   },
   "source": [
    "# Interpreting ASTs into Runtime Objects\n",
    "\n",
    "We've already encountered `Variable`, `Value`, `Begin`, `SetEnv`, and `Procedure` as objects that we're feeding to our evaluator. In this section, we'll introduce `Interpreted` as an interface between these hooks and the default evaluation model.\n",
    "\n",
    "These hooks are designed to be unopinionated about the evaluator interface as much as possible. This way, defining a new evaluator is as simple as creating a new interface and extending each of our runtime objects to implement it. \n",
    "\n",
    "Our default evaluation model will simply hook these objects into the python runtime using python's built-in lambdas and a [souped up dictionary class](#Representing-Environments) to represent the environment, but these objects are general enough to extend to other interpretation models."
   ]
  },
  {
   "cell_type": "code",
   "execution_count": 63,
   "metadata": {},
   "outputs": [],
   "source": [
    "class Interpreted:\n",
    "    def interpret(self, env):\n",
    "        raise NotImplementedError\n",
    "        \n",
    "    def replace(self, name, value):\n",
    "        raise NotImplementedError"
   ]
  },
  {
   "cell_type": "code",
   "execution_count": 64,
   "metadata": {},
   "outputs": [],
   "source": [
    "class Variable(Interpreted):\n",
    "    def __init__(self, name):\n",
    "        self.name = name\n",
    "        \n",
    "    def interpret(self, env):\n",
    "        return env[self.name]\n",
    "    \n",
    "    def replace(self, name, value):\n",
    "        if self.name == name:\n",
    "            return value\n",
    "        return self\n",
    "\n",
    "class Value(Interpreted):\n",
    "    def __init__(self, value):\n",
    "        self.value = value\n",
    "        \n",
    "    def interpret(self, env):\n",
    "        return self.value\n",
    "    \n",
    "    def replace(self, name, value):\n",
    "        return self\n",
    "\n",
    "class Begin(Interpreted):\n",
    "    def __init__(self, exprs):\n",
    "        self.exprs = exprs\n",
    "        \n",
    "    def interpret(self, env):\n",
    "        subenv = env.push()\n",
    "        result = None\n",
    "        for subexpr in self.exprs:\n",
    "            result = interpret(subexpr, subenv)\n",
    "            \n",
    "        return result\n",
    "    \n",
    "    def replace(self, name, value):\n",
    "        return Begin(replace(self.exprs, name, value))\n",
    "\n",
    "class SetEnv(Interpreted):\n",
    "    def __init__(self, name, value):\n",
    "        self.name = name\n",
    "        self.value = value\n",
    "    \n",
    "    def interpret(self, env):\n",
    "        env[self.name] = self.value\n",
    "        return None\n",
    "    \n",
    "    def replace(self, name, value):\n",
    "        return self\n",
    "\n",
    "class Procedure(Interpreted):\n",
    "    def __init__(self, arg_name, body):\n",
    "        self.arg_name = arg_name\n",
    "        self.body = body\n",
    "    \n",
    "    def interpret(self, env):\n",
    "        return lambda arg: (replace(self.body, self.arg_name, arg))\n",
    "    \n",
    "    def replace(self, name, value):\n",
    "        return Procedure(self.arg_name, replace(self.body, name, value))\n",
    "    \n",
    "    def __repr__(self):\n",
    "        return f\"(curried-lambda ({self.arg_name}) {self.body})\""
   ]
  },
  {
   "cell_type": "code",
   "execution_count": 65,
   "metadata": {
    "slideshow": {
     "slide_type": "subslide"
    }
   },
   "outputs": [],
   "source": [
    "def replace(expr, name, value):\n",
    "    if isinstance(expr, RuntimeObject):\n",
    "        return expr.replace(name, value)\n",
    "    elif isinstance(expr, list):\n",
    "        return [replace(subexpr, name, value) for subexpr in expr]"
   ]
  },
  {
   "cell_type": "markdown",
   "metadata": {},
   "source": [
    "# Putting it all together"
   ]
  },
  {
   "cell_type": "code",
   "execution_count": 66,
   "metadata": {
    "slideshow": {
     "slide_type": "subslide"
    }
   },
   "outputs": [],
   "source": [
    "def evaluate(expr, env):\n",
    "    if isinstance(expr, list):\n",
    "        operator = evaluate(expr[0], env)\n",
    "        if not expr[1:]:\n",
    "            return operator\n",
    "        if isinstance(operator, Procedure):\n",
    "            operator = evaluate(operator, env)\n",
    "        operand = expr[1]\n",
    "        return evaluate(operator(operand), env)\n",
    "    elif isinstance(expr, Interpreted):\n",
    "        return evaluate(expr.interpret(env), env) \n",
    "        # Procedures returned by partial application must be evaluated again to become python lambdas.\n",
    "\n",
    "    else:\n",
    "        return expr"
   ]
  },
  {
   "cell_type": "markdown",
   "metadata": {},
   "source": [
    "You may have noticed that `evaluate` only forces the evaluation of the operator, leaving the rest of the evaluation to happen when this first argument is applied to other (unevaluated) values. Why would this evaluation model help us?\n",
    "\n",
    "I'll try answer this with a couple of examples:\n",
    "\n",
    "Suppose we wish to evaluate the following code:\n",
    "\n",
    "\n",
    "    (defun (true a b) a)\n",
    "    (defun (false a b) b)\n",
    "    (defun (cons a b f) (f a b))\n",
    "    (defun (head l) (l true))\n",
    "    (defun (tail l) (l false))\n",
    "    (set ones (cons 1 ones))\n",
    "    (head (tail ones))\n",
    "\n",
    "    \n",
    "What should the result of this code block be?\n",
    "    \n",
    "A naive interpreter might give up when it sees `ones` inside the set block, claiming that since `ones` was not defined on a prior line, it is meaningless. An interpreter that supports recursion might substitute the definition we have created into `ones`, creating an infinite process that bottoms out before we can extract even the first or second values from this infinite list.\n",
    "\n",
    "We could also force the programmer to specify when they wish a value to be \"lazy\", or evaluated by need and not by default, by wrapping such values in lambda expressions where the evaluator cannot touch them until the lambda has been applied to an argument. Our code block under a \"strict\" system might work by modifying the last two lines like this:\n",
    "\n",
    "    (set lazy-ones (cons 1 (lambda (arbitrary) ones)))\n",
    "    (head ((tail ones) \"arbitrary\"))\n",
    "    \n",
    "The argument applied to `(tail ones)` is arbitrary, and only needed because our language doesn't support zero-argument lambdas. Laziness eliminates the need for such constructs.\n",
    "\n",
    "Additionally, laziness enables us to avoid evaluating expressions that aren't needed in a final result. For example, consider the code block:\n",
    "\n",
    "    (defun (if bool a b) (bool a b))\n",
    "    (if true (*email-valentine* \"I love you\") (*email-valentine* \"I don't love you\"))\n",
    "\n",
    "If we were to run this code strictly, we'd be in all kinds of trouble, and our valentine might rightly ask us why we didn't create `if` as a special form. However, with a lazy evaluation model, there's no need for conditional evaluation to be a privileged construct, and Valentine's day is saved."
   ]
  },
  {
   "cell_type": "markdown",
   "metadata": {
    "slideshow": {
     "slide_type": "slide"
    }
   },
   "source": [
    "## Representing Environments\n",
    "\n",
    "We'll extend python dictionaries to support the `push` namespace operation required by `begin`."
   ]
  },
  {
   "cell_type": "code",
   "execution_count": 67,
   "metadata": {},
   "outputs": [],
   "source": [
    "class Environment:\n",
    "    def all_bindings(self):\n",
    "        d = self.parent_bindings.copy()\n",
    "        for key in self.bindings:\n",
    "            d[key] = self.bindings[key]\n",
    "            \n",
    "        return d\n",
    "        \n",
    "        return self.parent_bindings.union(self.bindings)\n",
    "    \n",
    "    def __init__(self, parent=None, bindings=None):\n",
    "        self.parent = parent\n",
    "        self.parent_bindings = {} if parent is None else parent.all_bindings()\n",
    "        self.bindings = {} if bindings is None else bindings\n",
    "        \n",
    "    def __contains__(self, key):\n",
    "        return key in self.bindings or key in self.parent_bindings\n",
    "        \n",
    "    def __getitem__(self, key):\n",
    "        if key in self.bindings:\n",
    "            return self.bindings[key]\n",
    "        \n",
    "        elif key in self.parent_bindings:\n",
    "            return self.parent_bindings[key]\n",
    "        \n",
    "        else:\n",
    "            raise KeyError(key)\n",
    "            \n",
    "    def __setitem__(self, key, value):\n",
    "        self.bindings[key] = value\n",
    "        return value\n",
    "    \n",
    "    def __repr__(self):\n",
    "        return self.all_bindings().__repr__()\n",
    "            \n",
    "    def push(self, bindings=None):\n",
    "        return Environment(parent=self, bindings=bindings)"
   ]
  },
  {
   "cell_type": "markdown",
   "metadata": {
    "slideshow": {
     "slide_type": "slide"
    }
   },
   "source": [
    "# From Strings to Output\n",
    "\n",
    "Now, we can compose the parser, the desugarer, and the evaluator to create a REPL for our language.\n",
    "\n",
    "Since the REPL runs code line by line, we can eliminate the need for outer parentheses by automatically wrapping expressions run in the REPL in parentheses before parsing.\n",
    "\n",
    "(In my opinion, `set x 2` is cleaner than `(set x 2)`, and curring also helps to eliminate needless parentheses. This has the additional benefit of representing the [SKI Calculus](https://en.wikipedia.org/wiki/SKI_combinator_calculus) with no modification -- `S K K` is a valid expression in the REPL if `S` and `K` are well-defined.)"
   ]
  },
  {
   "cell_type": "code",
   "execution_count": 68,
   "metadata": {},
   "outputs": [],
   "source": [
    "def parse(stream, many_atoms = False):\n",
    "    f = sepby(whitespace, atom) if many_atoms else atom\n",
    "    \n",
    "    ast, rest = f(stream)\n",
    "    \n",
    "    if ast is None:\n",
    "        raise Exception(\"Parser failed\")\n",
    "    \n",
    "    if rest:\n",
    "        raise Exception(\"Parser failed to consume full input\")\n",
    "        \n",
    "    return ast"
   ]
  },
  {
   "cell_type": "code",
   "execution_count": 69,
   "metadata": {},
   "outputs": [],
   "source": [
    "def run_line(line, environment):\n",
    "    return evaluate(desugar(parse(line)), environment)\n",
    "\n",
    "def run_lines(lines, environment):\n",
    "    return [evaluate(desugar(ast), environment) for ast in parse(lines, many_atoms=True)]"
   ]
  },
  {
   "cell_type": "code",
   "execution_count": 70,
   "metadata": {},
   "outputs": [],
   "source": [
    "default_env = Environment()"
   ]
  },
  {
   "cell_type": "code",
   "execution_count": 71,
   "metadata": {
    "slideshow": {
     "slide_type": "subslide"
    }
   },
   "outputs": [],
   "source": [
    "def repl(library=None):\n",
    "    env = default_env.push()\n",
    "        \n",
    "    if library is not None:\n",
    "        run_lines(library, env)\n",
    "    \n",
    "    while True:\n",
    "        code = input(\"λ \")\n",
    "        if code == \"quit\" or code == \"\":\n",
    "            break\n",
    "                \n",
    "        try:\n",
    "            it = run_line(f\"({code})\", env)\n",
    "            if it is not None:\n",
    "                print(it)\n",
    "\n",
    "        except Exception as e:\n",
    "            raise(e)"
   ]
  },
  {
   "cell_type": "markdown",
   "metadata": {},
   "source": [
    "# Library Writing\n",
    "\n",
    "Good news! The rest of this section will be in lisp, so if you made it this far, congratulations!\n",
    "\n",
    "Let's start by building a base library that encompasses most of the operations we've seen so far."
   ]
  },
  {
   "cell_type": "code",
   "execution_count": 72,
   "metadata": {
    "slideshow": {
     "slide_type": "slide"
    }
   },
   "outputs": [],
   "source": [
    "base_library = \"\"\"\n",
    "(defun (true x y) x)\n",
    "(defun (false x y) y)\n",
    "(defun (cons a b f) (f a b))\n",
    "(defun (head l) (l true))\n",
    "(defun (tail l) (l false))\n",
    "(set ones (cons 1 ones))\n",
    "(defun (if p a b) (p a b))\n",
    "(defun (not x) (x false true))\n",
    "(defun (flip x a b) (x b a))\n",
    "(defun (bool_eq a b) (a b (not b)))\n",
    "(defun (show_bool b) (b \"true\" \"false\"))\n",
    "\"\"\""
   ]
  },
  {
   "cell_type": "markdown",
   "metadata": {},
   "source": [
    "Just for fun, here's the SKI calculus, which a very simple set of combinators capable of representing every possible mathematical operation."
   ]
  },
  {
   "cell_type": "code",
   "execution_count": 73,
   "metadata": {
    "slideshow": {
     "slide_type": "subslide"
    }
   },
   "outputs": [],
   "source": [
    "ski_library = \"\"\"\n",
    "(defun (S x y z) (x z (y z)))\n",
    "(defun (K x y) x)\n",
    "(defun (I x) x)\n",
    "\"\"\""
   ]
  },
  {
   "cell_type": "markdown",
   "metadata": {},
   "source": [
    "# Playing around in the REPL\n",
    "\n",
    "Here's the finished product, have fun and show me what you make!"
   ]
  },
  {
   "cell_type": "code",
   "execution_count": 80,
   "metadata": {
    "slideshow": {
     "slide_type": "subslide"
    }
   },
   "outputs": [
    {
     "name": "stdout",
     "output_type": "stream",
     "text": [
      "λ 1e12\n",
      "1000000000000.0\n",
      "λ quit\n"
     ]
    }
   ],
   "source": [
    "repl(base_library)"
   ]
  },
  {
   "cell_type": "code",
   "execution_count": 75,
   "metadata": {},
   "outputs": [
    {
     "name": "stdout",
     "output_type": "stream",
     "text": [
      "λ \n"
     ]
    }
   ],
   "source": [
    "repl(ski_library)"
   ]
  },
  {
   "cell_type": "markdown",
   "metadata": {},
   "source": [
    "# Let there be LISP\n",
    "\n",
    "Let's attach some cooler bindings to it!\n",
    "\n",
    "`Variable`, `Value`, and `Procedure` are the core \"functional\" abstractions of our language, while `Begin` and `SetEnv` are imperative since both rely on modifying the runtime environment. For now, we will focus on the functional core of the language, since this is easier to build on platforms that prioritize transforming data.\n",
    "\n"
   ]
  },
  {
   "cell_type": "markdown",
   "metadata": {},
   "source": [
    "# Playing with Neural Nets"
   ]
  },
  {
   "cell_type": "code",
   "execution_count": 77,
   "metadata": {},
   "outputs": [],
   "source": [
    "import numpy as np"
   ]
  },
  {
   "cell_type": "code",
   "execution_count": 78,
   "metadata": {},
   "outputs": [],
   "source": [
    "def evaluate_neuron(weights, inputs):\n",
    "    def activation(x):\n",
    "        return -1 if x < 0 else 1\n",
    "    \n",
    "    return activation(sum(weight * inp for weight, inp in zip(weights, inputs)))"
   ]
  },
  {
   "cell_type": "code",
   "execution_count": 79,
   "metadata": {},
   "outputs": [
    {
     "data": {
      "text/plain": [
       "-1"
      ]
     },
     "execution_count": 79,
     "metadata": {},
     "output_type": "execute_result"
    }
   ],
   "source": [
    "evaluate_neuron([1, 2], [-1, 0])"
   ]
  }
 ],
 "metadata": {
  "kernelspec": {
   "display_name": "Python 3",
   "language": "python",
   "name": "python3"
  },
  "language_info": {
   "codemirror_mode": {
    "name": "ipython",
    "version": 3
   },
   "file_extension": ".py",
   "mimetype": "text/x-python",
   "name": "python",
   "nbconvert_exporter": "python",
   "pygments_lexer": "ipython3",
   "version": "3.8.5"
  }
 },
 "nbformat": 4,
 "nbformat_minor": 4
}
